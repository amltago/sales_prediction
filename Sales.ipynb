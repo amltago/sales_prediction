{
  "nbformat": 4,
  "nbformat_minor": 0,
  "metadata": {
    "colab": {
      "name": "Sales.ipynb",
      "provenance": [],
      "toc_visible": true,
      "history_visible": true,
      "include_colab_link": true
    },
    "kernelspec": {
      "name": "python3",
      "display_name": "Python 3"
    },
    "language_info": {
      "name": "python"
    }
  },
  "cells": [
    {
      "cell_type": "markdown",
      "metadata": {
        "id": "view-in-github",
        "colab_type": "text"
      },
      "source": [
        "<a href=\"https://colab.research.google.com/github/amltago/sales_prediction/blob/main/Sales.ipynb\" target=\"_parent\"><img src=\"https://colab.research.google.com/assets/colab-badge.svg\" alt=\"Open In Colab\"/></a>"
      ]
    },
    {
      "cell_type": "markdown",
      "source": [
        "# Project 1- Part 2 (Core)\n",
        "\n",
        "Submitted by: Aiza Marie Tago"
      ],
      "metadata": {
        "id": "WqjYxNBMVBNv"
      }
    },
    {
      "cell_type": "markdown",
      "source": [
        "\n",
        "\n"
      ],
      "metadata": {
        "id": "Cvdm0FOBVJr-"
      }
    },
    {
      "cell_type": "markdown",
      "source": [
        "## Loading Data\n",
        "\n",
        "Mounting and loading the data from Google Drive"
      ],
      "metadata": {
        "id": "MMqoj_yUVPdP"
      }
    },
    {
      "cell_type": "markdown",
      "source": [
        "## Loading file from Google Drive and importing libraries"
      ],
      "metadata": {
        "id": "vcIqQyurWNrw"
      }
    },
    {
      "cell_type": "code",
      "source": [
        "# Mounting drive\n",
        "\n",
        "from google.colab import drive\n",
        "drive.mount('/content/drive')"
      ],
      "metadata": {
        "id": "8wANZu8VsbyD"
      },
      "execution_count": null,
      "outputs": []
    },
    {
      "cell_type": "markdown",
      "source": [
        "## Importing libraries and loading dataframe"
      ],
      "metadata": {
        "id": "xj4PXSPbWbk5"
      }
    },
    {
      "cell_type": "code",
      "source": [
        "# Importing libraries\n",
        "\n",
        "import pandas as pd\n",
        "import pandas as np"
      ],
      "metadata": {
        "id": "es3J-fGZV_tk"
      },
      "execution_count": null,
      "outputs": []
    },
    {
      "cell_type": "code",
      "execution_count": null,
      "metadata": {
        "id": "ZIWmf8awK3L2"
      },
      "outputs": [],
      "source": [
        "# Loading dataframe\n",
        "\n",
        "filename = (\"/content/drive/MyDrive/Coding Dojo/Files/sales_predictions.csv\")\n",
        "df = pd.read_csv(filename)"
      ]
    },
    {
      "cell_type": "markdown",
      "source": [
        "## Checking dataframe"
      ],
      "metadata": {
        "id": "0LwlJDxpWqkE"
      }
    },
    {
      "cell_type": "code",
      "source": [
        "# Checking headers\n",
        "\n",
        "df.head()"
      ],
      "metadata": {
        "id": "m7NMRi8nVsoD"
      },
      "execution_count": null,
      "outputs": []
    },
    {
      "cell_type": "markdown",
      "source": [
        "## Cleaning Data"
      ],
      "metadata": {
        "id": "OHNmn4evWxkL"
      }
    },
    {
      "cell_type": "code",
      "source": [
        "# Identifying data types\n",
        "\n",
        "df.info()"
      ],
      "metadata": {
        "id": "vbOMla_RW5Ix"
      },
      "execution_count": null,
      "outputs": []
    },
    {
      "cell_type": "code",
      "source": [
        "# 1) How many rows and columns?\n",
        "\n",
        "# Running df.shape for rows and columns checking\n",
        "\n",
        "df.shape\n",
        "print( 'Rows and Columns', (df.shape))"
      ],
      "metadata": {
        "id": "C3rNU1QyW-B3"
      },
      "execution_count": null,
      "outputs": []
    },
    {
      "cell_type": "code",
      "source": [
        "# 2) What are the datatypes of each variable?\n",
        "\n",
        "# Checking for data types\n",
        "\n",
        "df.dtypes"
      ],
      "metadata": {
        "id": "kDhxd186XBn7"
      },
      "execution_count": null,
      "outputs": []
    },
    {
      "cell_type": "code",
      "source": [
        "# Checking and dropping duplicates\n",
        "\n",
        "df.duplicated().sum()\n",
        "print(\"Duplicates\", (df.duplicated().sum()))"
      ],
      "metadata": {
        "id": "ODeTpeAuXFs_"
      },
      "execution_count": null,
      "outputs": []
    },
    {
      "cell_type": "markdown",
      "source": [
        "**There are no duplicates in the dataset**"
      ],
      "metadata": {
        "id": "Msl0UxUpXKNH"
      }
    },
    {
      "cell_type": "code",
      "source": [
        "# Checking null or nan\n",
        "\n",
        "df.isna().sum()"
      ],
      "metadata": {
        "id": "HrMBX88KXLvW"
      },
      "execution_count": null,
      "outputs": []
    },
    {
      "cell_type": "code",
      "source": [
        "# Checking Item_Weight column\n",
        "\n",
        "no_weight = df['Item_Weight'].isna()\n",
        "df.loc[no_weight, :]\n"
      ],
      "metadata": {
        "id": "Vse8oIeiXQq3"
      },
      "execution_count": null,
      "outputs": []
    },
    {
      "cell_type": "code",
      "source": [
        "# Dropping columns with NAN values as they are not necessary\n",
        "\n",
        "df.drop(columns= 'Item_Weight', inplace = True)\n",
        "df.drop(columns= 'Outlet_Size', inplace = True)"
      ],
      "metadata": {
        "id": "DMFqJeWYXUMY"
      },
      "execution_count": null,
      "outputs": []
    },
    {
      "cell_type": "markdown",
      "source": [
        "**Dropping both columns, although each column are having large numbers, I believe they have minimal to no effect in sales prediction or calculating income**"
      ],
      "metadata": {
        "id": "gkUCGUlcXZv0"
      }
    },
    {
      "cell_type": "markdown",
      "source": [
        "## Dataframe after dropping columns with NAN/null values"
      ],
      "metadata": {
        "id": "35iu9EHkXtNv"
      }
    },
    {
      "cell_type": "code",
      "source": [
        "# Checking dataframe after dropping columns\n",
        "\n",
        "df.head()"
      ],
      "metadata": {
        "id": "ZlhQDXhgXd5R"
      },
      "execution_count": null,
      "outputs": []
    },
    {
      "cell_type": "code",
      "source": [
        "# Checking data information after dropping columns\n",
        "\n",
        "df.info()"
      ],
      "metadata": {
        "id": "eVErL5SAXhdG"
      },
      "execution_count": null,
      "outputs": []
    },
    {
      "cell_type": "markdown",
      "source": [
        "## Checking for inconsistencies"
      ],
      "metadata": {
        "id": "yF6135lXYC0G"
      }
    },
    {
      "cell_type": "code",
      "source": [
        "# Checking for inconsistencies\n",
        "\n",
        "# Get column names\n",
        "column_names = df.columns\n",
        "\n",
        "# Iterate each column\n",
        "for columns in column_names:\n",
        "    print(columns,df[columns].unique())\n"
      ],
      "metadata": {
        "id": "FsCISxfkYHIx"
      },
      "execution_count": null,
      "outputs": []
    },
    {
      "cell_type": "code",
      "source": [
        "# Checking for inconsistencies for categorical data\n",
        "\n",
        "df_cat = df.select_dtypes(include=['object'])\n",
        "\n",
        "cat_names = df_cat.columns\n",
        "\n",
        "# Iterate each column\n",
        "\n",
        "for columns in cat_names:\n",
        "    print(columns,df[columns].unique())"
      ],
      "metadata": {
        "id": "EsM4GDTuYL86"
      },
      "execution_count": null,
      "outputs": []
    },
    {
      "cell_type": "code",
      "source": [
        "# Checking for inconsistencies for numerical data\n",
        "\n",
        "df_num = df.select_dtypes(include=['int64','float64'])\n",
        "\n",
        "num_names = df_num.columns\n",
        "\n",
        "# Iterate each column\n",
        "\n",
        "for columns in num_names:\n",
        "    print(columns,df[columns].unique())"
      ],
      "metadata": {
        "id": "q5LrQHeEYXWG"
      },
      "execution_count": null,
      "outputs": []
    },
    {
      "cell_type": "markdown",
      "source": [
        "## Validating content of categorical columns"
      ],
      "metadata": {
        "id": "rMG29jVEYa2P"
      }
    },
    {
      "cell_type": "code",
      "source": [
        "# Checking for value counts\n",
        "\n",
        "ID = df['Item_Identifier']\n",
        "ID.value_counts()"
      ],
      "metadata": {
        "id": "aZ7dpMARY-Pu"
      },
      "execution_count": null,
      "outputs": []
    },
    {
      "cell_type": "code",
      "source": [
        "len(ID)"
      ],
      "metadata": {
        "id": "BOll7cllh9Ih"
      },
      "execution_count": null,
      "outputs": []
    },
    {
      "cell_type": "code",
      "source": [
        "#Checking integrity of  entries\n",
        "\n",
        "FDW = ID == 'FDW13'\n",
        "FDW.value_counts()"
      ],
      "metadata": {
        "id": "GjJr6GizZKA9"
      },
      "execution_count": null,
      "outputs": []
    },
    {
      "cell_type": "code",
      "source": [
        "#Checking integrity of  entries\n",
        "\n",
        "DR = ID == 'DRC01'\n",
        "DR.value_counts()"
      ],
      "metadata": {
        "id": "f-UWaMH9ZWNx"
      },
      "execution_count": null,
      "outputs": []
    },
    {
      "cell_type": "markdown",
      "source": [
        "**The entries that are showing unique are identifiers of the items**"
      ],
      "metadata": {
        "id": "P3WMbSlJZasf"
      }
    },
    {
      "cell_type": "code",
      "source": [
        "# Filtering Item_Fat_Content column\n",
        "\n",
        "IFC = df['Item_Fat_Content']\n",
        "IFC.unique()"
      ],
      "metadata": {
        "id": "W9EAskHGZe7g"
      },
      "execution_count": null,
      "outputs": []
    },
    {
      "cell_type": "code",
      "source": [
        "# Changing low fat and LF to Low Fat\n",
        "\n",
        "df.loc[df['Item_Fat_Content'] == 'low fat', 'Item_Fat_Content'] = 'Low Fat'\n",
        "df.loc[df['Item_Fat_Content'] == 'LF', 'Item_Fat_Content'] = 'Low Fat'\n",
        "\n",
        "# Changing reg to Regular\n",
        "\n",
        "df.loc[df['Item_Fat_Content'] == 'reg', 'Item_Fat_Content'] = 'Regular'"
      ],
      "metadata": {
        "id": "YHCIF5UOZihl"
      },
      "execution_count": null,
      "outputs": []
    },
    {
      "cell_type": "code",
      "source": [
        "# Checking dataframe after changing variables (refer to above cell)\n",
        "\n",
        "cat_names\n",
        "\n",
        "# Iterate each column\n",
        "\n",
        "for columns in cat_names:\n",
        "    print(columns,df[columns].unique())"
      ],
      "metadata": {
        "id": "wvQMU_nbZl2p"
      },
      "execution_count": null,
      "outputs": []
    },
    {
      "cell_type": "code",
      "source": [
        "# Checking for Item_Fat_Content column for value counts\n",
        "\n",
        "IFC.value_counts()"
      ],
      "metadata": {
        "id": "69sWS-aLZpf5"
      },
      "execution_count": null,
      "outputs": []
    },
    {
      "cell_type": "code",
      "source": [
        "# Checking for Item_Type column for value counts\n",
        "\n",
        "I_Type= df['Item_Type']\n",
        "I_Type.value_counts()"
      ],
      "metadata": {
        "id": "5cIe3NUhZsno"
      },
      "execution_count": null,
      "outputs": []
    },
    {
      "cell_type": "code",
      "source": [
        "# Renaming Item Type\n",
        "\n",
        "df.loc[df['Item_Type'] == 'Fruits and Vegetables', 'Item_Type'] = 'F&V'\n",
        "df.loc[df['Item_Type'] == 'Snack Foods', 'Item_Type'] = 'SF'\n",
        "df.loc[df['Item_Type'] == 'Household', 'Item_Type'] = 'HH'\n",
        "df.loc[df['Item_Type'] == 'Frozen Foods', 'Item_Type'] = 'FF'\n",
        "df.loc[df['Item_Type'] == 'Baking Goods', 'Item_Type'] = 'BG'\n",
        "df.loc[df['Item_Type'] == 'Health and Hygiene', 'Item_Type'] = 'H&H'\n",
        "df.loc[df['Item_Type'] == 'Soft Drinks', 'Item_Type'] = 'SD'\n",
        "df.loc[df['Item_Type'] == 'Hard Drinks', 'Item_Type'] = 'HD'\n",
        "df.loc[df['Item_Type'] == 'Starchy Foods', 'Item_Type'] = 'SFoods'\n",
        "df.loc[df['Item_Type'] == 'Breakfast', 'Item_Type'] = 'Bfast'\n",
        "df.loc[df['Item_Type'] == 'Seafood', 'Item_Type'] = 'SFood'\n"
      ],
      "metadata": {
        "id": "_f2NBC8-kNc-"
      },
      "execution_count": null,
      "outputs": []
    },
    {
      "cell_type": "code",
      "source": [
        "# Checking for Item_Fat_Content column for value counts\n",
        "\n",
        "O_ID = df['Outlet_Identifier']\n",
        "O_ID.value_counts()"
      ],
      "metadata": {
        "id": "zBBldA_LZwID"
      },
      "execution_count": null,
      "outputs": []
    },
    {
      "cell_type": "code",
      "source": [
        "# Checking for Outlet_Type column for value counts\n",
        "\n",
        "OType= df['Outlet_Type']\n",
        "OType.value_counts()"
      ],
      "metadata": {
        "id": "ngTs_lrdaeE9"
      },
      "execution_count": null,
      "outputs": []
    },
    {
      "cell_type": "markdown",
      "source": [
        "**The categorical columns have identifiers for items for this reason it would filter unique entries. Has checked the validity of the data per column. Updated the Item_Fat_Content the variables low fat and LF to Low Fat, and reg to Regular for uniformity**"
      ],
      "metadata": {
        "id": "TmC8hN4iZzTz"
      }
    },
    {
      "cell_type": "markdown",
      "source": [
        "## Validating content of numerical columns"
      ],
      "metadata": {
        "id": "cMCTkdMwZ17U"
      }
    },
    {
      "cell_type": "code",
      "source": [
        "#import statistics\n",
        "\n",
        "import statistics"
      ],
      "metadata": {
        "id": "3rR6pzqHZ-Qo"
      },
      "execution_count": null,
      "outputs": []
    },
    {
      "cell_type": "code",
      "source": [
        "# Filtering Item_Visibility\n",
        "\n",
        "item_vis = df['Item_Visibility']\n",
        "\n",
        "ave_item_vis = statistics.mean(item_vis)\n",
        "\n",
        "print(\"The visibility is \" + str (round(ave_item_vis, 2)))\n",
        "print(\"Min\",item_vis.min())\n",
        "print(\"Max\",item_vis.max())"
      ],
      "metadata": {
        "id": "jx8_e8w3aDJt"
      },
      "execution_count": null,
      "outputs": []
    },
    {
      "cell_type": "code",
      "source": [
        "# Filtering Item_MRP\n",
        "\n",
        "MRP = df['Item_MRP']\n",
        "\n",
        "ave_MRP = statistics.mean(MRP)\n",
        "\n",
        "print(\"The average MRP is \" + str (round(ave_MRP, 2)))\n",
        "print(\"Min\",MRP.min())\n",
        "print(\"Mticax\",MRP.max())"
      ],
      "metadata": {
        "id": "2HzFHIkkaGh7"
      },
      "execution_count": null,
      "outputs": []
    },
    {
      "cell_type": "code",
      "source": [
        "# Filtering and sorting Outlet_Establishment_Year\n",
        "\n",
        "established_year = df['Outlet_Establishment_Year']\n",
        "established_year.value_counts()\n",
        "sort_per_year = established_year.value_counts()\n",
        "sort_per_year.sort_values()"
      ],
      "metadata": {
        "id": "RA5TDANOaJvE"
      },
      "execution_count": null,
      "outputs": []
    },
    {
      "cell_type": "code",
      "source": [
        "# Filtering and checking min, max and mean for sales column\n",
        "\n",
        "sales = df['Item_Outlet_Sales']\n",
        "\n",
        "average = statistics.mean(sales)\n",
        "\n",
        "print(\"The average sales is $\" + str(round(average, 2)))\n",
        "print(\"Min\",sales.min())\n",
        "print(\"Max\",sales.max())"
      ],
      "metadata": {
        "id": "xW4Fq2NraMDo"
      },
      "execution_count": null,
      "outputs": []
    },
    {
      "cell_type": "markdown",
      "source": [
        "**Showed the min and max of each columns except for Outlet_Establishment_Year, instead I sorted the values.**"
      ],
      "metadata": {
        "id": "yKIzfNIoaRyG"
      }
    },
    {
      "cell_type": "markdown",
      "source": [
        "# Project 1 - Part 3 (Core)"
      ],
      "metadata": {
        "id": "meOYtpWXKObP"
      }
    },
    {
      "cell_type": "markdown",
      "source": [
        "## Histogram to view the distributions of various features in your dataset.\n"
      ],
      "metadata": {
        "id": "_WSHAeCOVhv2"
      }
    },
    {
      "cell_type": "code",
      "source": [
        "# Importing libraries\n",
        "\n",
        "import matplotlib.pyplot as plt\n",
        "import seaborn as sns"
      ],
      "metadata": {
        "id": "FH1GYcV6KSzZ"
      },
      "execution_count": null,
      "outputs": []
    },
    {
      "cell_type": "code",
      "source": [
        "# Creating histogram for Item Identifier\n",
        "\n",
        "plt.style.use('seaborn')\n",
        "plt.figure(figsize=(8,5))\n",
        "plt.hist(I_Type, bins=16, alpha=0.7, edgecolor='black', label='Item Type')\n",
        "\n",
        "plt.xticks(rotation= 20)\n",
        "plt.yticks(rotation= 20);"
      ],
      "metadata": {
        "id": "Rba2donAhwxc"
      },
      "execution_count": null,
      "outputs": []
    },
    {
      "cell_type": "code",
      "source": [
        "# Creating histogram for Outlet Type\n",
        "\n",
        "plt.style.use('seaborn')\n",
        "plt.figure(figsize=(8,5))\n",
        "plt.hist(OType, bins=4, alpha=0.7, edgecolor='black', label='Outlet Type');\n"
      ],
      "metadata": {
        "id": "OpBjoSORa6rx"
      },
      "execution_count": null,
      "outputs": []
    },
    {
      "cell_type": "code",
      "source": [
        "# Creating histogram for Sales\n",
        "\n",
        "plt.style.use('seaborn')\n",
        "plt.figure(figsize=(7,5))\n",
        "plt.hist(sales, bins=8, alpha=0.7, edgecolor='black', label='Sales');"
      ],
      "metadata": {
        "id": "2Aj7eVeTcey-"
      },
      "execution_count": null,
      "outputs": []
    },
    {
      "cell_type": "markdown",
      "source": [
        "## Boxplot to view statistical summaries of various features in your dataset"
      ],
      "metadata": {
        "id": "aBXlgRtj2nBd"
      }
    },
    {
      "cell_type": "code",
      "source": [
        "# Creating boxplot for Item Outlet Sales and the Type of Outlet\n",
        "\n",
        "sns.boxplot(x='Item_Outlet_Sales', y='Outlet_Type', data=df);"
      ],
      "metadata": {
        "id": "5dVh8Z7uu4hk"
      },
      "execution_count": null,
      "outputs": []
    },
    {
      "cell_type": "code",
      "source": [
        "# Boxplot for Item Outlet Sales and the year the outlet was established\n",
        "\n",
        "sns.boxplot(x='Outlet_Establishment_Year', y='Item_Outlet_Sales', data=df);"
      ],
      "metadata": {
        "id": "5tF1Q4E3zGN2"
      },
      "execution_count": null,
      "outputs": []
    },
    {
      "cell_type": "markdown",
      "source": [
        "## Heatmap of the correlation between features"
      ],
      "metadata": {
        "id": "LFM93Et84waw"
      }
    },
    {
      "cell_type": "code",
      "source": [
        "# Creating correlation\n",
        "\n",
        "corr = df.corr()\n",
        "\n",
        "sns.heatmap(corr, cmap = 'Oranges');"
      ],
      "metadata": {
        "id": "7gYvk3860qqR"
      },
      "execution_count": null,
      "outputs": []
    },
    {
      "cell_type": "code",
      "source": [
        "# Creating correlation annot= True\n",
        "\n",
        "sns.heatmap(corr, cmap = 'Blues', annot = True);"
      ],
      "metadata": {
        "id": "1g6QB8Md1vIA"
      },
      "execution_count": null,
      "outputs": []
    }
  ]
}