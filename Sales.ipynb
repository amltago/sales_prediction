{
  "nbformat": 4,
  "nbformat_minor": 0,
  "metadata": {
    "colab": {
      "name": "Sales.ipynb",
      "provenance": [],
      "toc_visible": true,
      "include_colab_link": true
    },
    "kernelspec": {
      "name": "python3",
      "display_name": "Python 3"
    },
    "language_info": {
      "name": "python"
    }
  },
  "cells": [
    {
      "cell_type": "markdown",
      "metadata": {
        "id": "view-in-github",
        "colab_type": "text"
      },
      "source": [
        "<a href=\"https://colab.research.google.com/github/amltago/sales_prediction/blob/main/Sales.ipynb\" target=\"_parent\"><img src=\"https://colab.research.google.com/assets/colab-badge.svg\" alt=\"Open In Colab\"/></a>"
      ]
    },
    {
      "cell_type": "markdown",
      "source": [
        "# Project 1- Part 2 (Core)\n",
        "\n",
        "Submitted by: Aiza Marie Tago"
      ],
      "metadata": {
        "id": "WqjYxNBMVBNv"
      }
    },
    {
      "cell_type": "markdown",
      "source": [
        "\n",
        "\n"
      ],
      "metadata": {
        "id": "Cvdm0FOBVJr-"
      }
    },
    {
      "cell_type": "markdown",
      "source": [
        "## Loading Data\n",
        "\n",
        "Mounting and loading the data from Google Drive"
      ],
      "metadata": {
        "id": "MMqoj_yUVPdP"
      }
    },
    {
      "cell_type": "markdown",
      "source": [
        "## Loading file from Google Drive and importing libraries"
      ],
      "metadata": {
        "id": "vcIqQyurWNrw"
      }
    },
    {
      "cell_type": "code",
      "source": [
        "# Mounting drive\n",
        "\n",
        "from google.colab import drive\n",
        "drive.mount('/content/drive')"
      ],
      "metadata": {
        "id": "8wANZu8VsbyD",
        "outputId": "112a943d-f5e0-4697-c6f8-ace6247aa724",
        "colab": {
          "base_uri": "https://localhost:8080/"
        }
      },
      "execution_count": 1,
      "outputs": [
        {
          "output_type": "stream",
          "name": "stdout",
          "text": [
            "Drive already mounted at /content/drive; to attempt to forcibly remount, call drive.mount(\"/content/drive\", force_remount=True).\n"
          ]
        }
      ]
    },
    {
      "cell_type": "markdown",
      "source": [
        "## Importing libraries and loading dataframe"
      ],
      "metadata": {
        "id": "xj4PXSPbWbk5"
      }
    },
    {
      "cell_type": "code",
      "source": [
        "# Importing libraries\n",
        "\n",
        "import pandas as pd\n",
        "import pandas as np"
      ],
      "metadata": {
        "id": "es3J-fGZV_tk"
      },
      "execution_count": 2,
      "outputs": []
    },
    {
      "cell_type": "code",
      "execution_count": 3,
      "metadata": {
        "id": "ZIWmf8awK3L2"
      },
      "outputs": [],
      "source": [
        "# Loading dataframe\n",
        "\n",
        "filename = (\"/content/drive/MyDrive/Coding Dojo/Files/sales_predictions.csv\")\n",
        "df = pd.read_csv(filename)"
      ]
    },
    {
      "cell_type": "markdown",
      "source": [
        "## Checking dataframe"
      ],
      "metadata": {
        "id": "0LwlJDxpWqkE"
      }
    },
    {
      "cell_type": "code",
      "source": [
        "# Checking headers\n",
        "\n",
        "df.head()"
      ],
      "metadata": {
        "id": "m7NMRi8nVsoD",
        "outputId": "defe3c6e-4a05-4edf-9dd9-4bca723e7878",
        "colab": {
          "base_uri": "https://localhost:8080/",
          "height": 357
        }
      },
      "execution_count": 4,
      "outputs": [
        {
          "output_type": "execute_result",
          "data": {
            "text/plain": [
              "  Item_Identifier  Item_Weight Item_Fat_Content  Item_Visibility  \\\n",
              "0           FDA15         9.30          Low Fat         0.016047   \n",
              "1           DRC01         5.92          Regular         0.019278   \n",
              "2           FDN15        17.50          Low Fat         0.016760   \n",
              "3           FDX07        19.20          Regular         0.000000   \n",
              "4           NCD19         8.93          Low Fat         0.000000   \n",
              "\n",
              "               Item_Type  Item_MRP Outlet_Identifier  \\\n",
              "0                  Dairy  249.8092            OUT049   \n",
              "1            Soft Drinks   48.2692            OUT018   \n",
              "2                   Meat  141.6180            OUT049   \n",
              "3  Fruits and Vegetables  182.0950            OUT010   \n",
              "4              Household   53.8614            OUT013   \n",
              "\n",
              "   Outlet_Establishment_Year Outlet_Size Outlet_Location_Type  \\\n",
              "0                       1999      Medium               Tier 1   \n",
              "1                       2009      Medium               Tier 3   \n",
              "2                       1999      Medium               Tier 1   \n",
              "3                       1998         NaN               Tier 3   \n",
              "4                       1987        High               Tier 3   \n",
              "\n",
              "         Outlet_Type  Item_Outlet_Sales  \n",
              "0  Supermarket Type1          3735.1380  \n",
              "1  Supermarket Type2           443.4228  \n",
              "2  Supermarket Type1          2097.2700  \n",
              "3      Grocery Store           732.3800  \n",
              "4  Supermarket Type1           994.7052  "
            ],
            "text/html": [
              "\n",
              "  <div id=\"df-6e43ce40-1c0e-49eb-928e-3927f51cc4db\">\n",
              "    <div class=\"colab-df-container\">\n",
              "      <div>\n",
              "<style scoped>\n",
              "    .dataframe tbody tr th:only-of-type {\n",
              "        vertical-align: middle;\n",
              "    }\n",
              "\n",
              "    .dataframe tbody tr th {\n",
              "        vertical-align: top;\n",
              "    }\n",
              "\n",
              "    .dataframe thead th {\n",
              "        text-align: right;\n",
              "    }\n",
              "</style>\n",
              "<table border=\"1\" class=\"dataframe\">\n",
              "  <thead>\n",
              "    <tr style=\"text-align: right;\">\n",
              "      <th></th>\n",
              "      <th>Item_Identifier</th>\n",
              "      <th>Item_Weight</th>\n",
              "      <th>Item_Fat_Content</th>\n",
              "      <th>Item_Visibility</th>\n",
              "      <th>Item_Type</th>\n",
              "      <th>Item_MRP</th>\n",
              "      <th>Outlet_Identifier</th>\n",
              "      <th>Outlet_Establishment_Year</th>\n",
              "      <th>Outlet_Size</th>\n",
              "      <th>Outlet_Location_Type</th>\n",
              "      <th>Outlet_Type</th>\n",
              "      <th>Item_Outlet_Sales</th>\n",
              "    </tr>\n",
              "  </thead>\n",
              "  <tbody>\n",
              "    <tr>\n",
              "      <th>0</th>\n",
              "      <td>FDA15</td>\n",
              "      <td>9.30</td>\n",
              "      <td>Low Fat</td>\n",
              "      <td>0.016047</td>\n",
              "      <td>Dairy</td>\n",
              "      <td>249.8092</td>\n",
              "      <td>OUT049</td>\n",
              "      <td>1999</td>\n",
              "      <td>Medium</td>\n",
              "      <td>Tier 1</td>\n",
              "      <td>Supermarket Type1</td>\n",
              "      <td>3735.1380</td>\n",
              "    </tr>\n",
              "    <tr>\n",
              "      <th>1</th>\n",
              "      <td>DRC01</td>\n",
              "      <td>5.92</td>\n",
              "      <td>Regular</td>\n",
              "      <td>0.019278</td>\n",
              "      <td>Soft Drinks</td>\n",
              "      <td>48.2692</td>\n",
              "      <td>OUT018</td>\n",
              "      <td>2009</td>\n",
              "      <td>Medium</td>\n",
              "      <td>Tier 3</td>\n",
              "      <td>Supermarket Type2</td>\n",
              "      <td>443.4228</td>\n",
              "    </tr>\n",
              "    <tr>\n",
              "      <th>2</th>\n",
              "      <td>FDN15</td>\n",
              "      <td>17.50</td>\n",
              "      <td>Low Fat</td>\n",
              "      <td>0.016760</td>\n",
              "      <td>Meat</td>\n",
              "      <td>141.6180</td>\n",
              "      <td>OUT049</td>\n",
              "      <td>1999</td>\n",
              "      <td>Medium</td>\n",
              "      <td>Tier 1</td>\n",
              "      <td>Supermarket Type1</td>\n",
              "      <td>2097.2700</td>\n",
              "    </tr>\n",
              "    <tr>\n",
              "      <th>3</th>\n",
              "      <td>FDX07</td>\n",
              "      <td>19.20</td>\n",
              "      <td>Regular</td>\n",
              "      <td>0.000000</td>\n",
              "      <td>Fruits and Vegetables</td>\n",
              "      <td>182.0950</td>\n",
              "      <td>OUT010</td>\n",
              "      <td>1998</td>\n",
              "      <td>NaN</td>\n",
              "      <td>Tier 3</td>\n",
              "      <td>Grocery Store</td>\n",
              "      <td>732.3800</td>\n",
              "    </tr>\n",
              "    <tr>\n",
              "      <th>4</th>\n",
              "      <td>NCD19</td>\n",
              "      <td>8.93</td>\n",
              "      <td>Low Fat</td>\n",
              "      <td>0.000000</td>\n",
              "      <td>Household</td>\n",
              "      <td>53.8614</td>\n",
              "      <td>OUT013</td>\n",
              "      <td>1987</td>\n",
              "      <td>High</td>\n",
              "      <td>Tier 3</td>\n",
              "      <td>Supermarket Type1</td>\n",
              "      <td>994.7052</td>\n",
              "    </tr>\n",
              "  </tbody>\n",
              "</table>\n",
              "</div>\n",
              "      <button class=\"colab-df-convert\" onclick=\"convertToInteractive('df-6e43ce40-1c0e-49eb-928e-3927f51cc4db')\"\n",
              "              title=\"Convert this dataframe to an interactive table.\"\n",
              "              style=\"display:none;\">\n",
              "        \n",
              "  <svg xmlns=\"http://www.w3.org/2000/svg\" height=\"24px\"viewBox=\"0 0 24 24\"\n",
              "       width=\"24px\">\n",
              "    <path d=\"M0 0h24v24H0V0z\" fill=\"none\"/>\n",
              "    <path d=\"M18.56 5.44l.94 2.06.94-2.06 2.06-.94-2.06-.94-.94-2.06-.94 2.06-2.06.94zm-11 1L8.5 8.5l.94-2.06 2.06-.94-2.06-.94L8.5 2.5l-.94 2.06-2.06.94zm10 10l.94 2.06.94-2.06 2.06-.94-2.06-.94-.94-2.06-.94 2.06-2.06.94z\"/><path d=\"M17.41 7.96l-1.37-1.37c-.4-.4-.92-.59-1.43-.59-.52 0-1.04.2-1.43.59L10.3 9.45l-7.72 7.72c-.78.78-.78 2.05 0 2.83L4 21.41c.39.39.9.59 1.41.59.51 0 1.02-.2 1.41-.59l7.78-7.78 2.81-2.81c.8-.78.8-2.07 0-2.86zM5.41 20L4 18.59l7.72-7.72 1.47 1.35L5.41 20z\"/>\n",
              "  </svg>\n",
              "      </button>\n",
              "      \n",
              "  <style>\n",
              "    .colab-df-container {\n",
              "      display:flex;\n",
              "      flex-wrap:wrap;\n",
              "      gap: 12px;\n",
              "    }\n",
              "\n",
              "    .colab-df-convert {\n",
              "      background-color: #E8F0FE;\n",
              "      border: none;\n",
              "      border-radius: 50%;\n",
              "      cursor: pointer;\n",
              "      display: none;\n",
              "      fill: #1967D2;\n",
              "      height: 32px;\n",
              "      padding: 0 0 0 0;\n",
              "      width: 32px;\n",
              "    }\n",
              "\n",
              "    .colab-df-convert:hover {\n",
              "      background-color: #E2EBFA;\n",
              "      box-shadow: 0px 1px 2px rgba(60, 64, 67, 0.3), 0px 1px 3px 1px rgba(60, 64, 67, 0.15);\n",
              "      fill: #174EA6;\n",
              "    }\n",
              "\n",
              "    [theme=dark] .colab-df-convert {\n",
              "      background-color: #3B4455;\n",
              "      fill: #D2E3FC;\n",
              "    }\n",
              "\n",
              "    [theme=dark] .colab-df-convert:hover {\n",
              "      background-color: #434B5C;\n",
              "      box-shadow: 0px 1px 3px 1px rgba(0, 0, 0, 0.15);\n",
              "      filter: drop-shadow(0px 1px 2px rgba(0, 0, 0, 0.3));\n",
              "      fill: #FFFFFF;\n",
              "    }\n",
              "  </style>\n",
              "\n",
              "      <script>\n",
              "        const buttonEl =\n",
              "          document.querySelector('#df-6e43ce40-1c0e-49eb-928e-3927f51cc4db button.colab-df-convert');\n",
              "        buttonEl.style.display =\n",
              "          google.colab.kernel.accessAllowed ? 'block' : 'none';\n",
              "\n",
              "        async function convertToInteractive(key) {\n",
              "          const element = document.querySelector('#df-6e43ce40-1c0e-49eb-928e-3927f51cc4db');\n",
              "          const dataTable =\n",
              "            await google.colab.kernel.invokeFunction('convertToInteractive',\n",
              "                                                     [key], {});\n",
              "          if (!dataTable) return;\n",
              "\n",
              "          const docLinkHtml = 'Like what you see? Visit the ' +\n",
              "            '<a target=\"_blank\" href=https://colab.research.google.com/notebooks/data_table.ipynb>data table notebook</a>'\n",
              "            + ' to learn more about interactive tables.';\n",
              "          element.innerHTML = '';\n",
              "          dataTable['output_type'] = 'display_data';\n",
              "          await google.colab.output.renderOutput(dataTable, element);\n",
              "          const docLink = document.createElement('div');\n",
              "          docLink.innerHTML = docLinkHtml;\n",
              "          element.appendChild(docLink);\n",
              "        }\n",
              "      </script>\n",
              "    </div>\n",
              "  </div>\n",
              "  "
            ]
          },
          "metadata": {},
          "execution_count": 4
        }
      ]
    },
    {
      "cell_type": "markdown",
      "source": [
        "## Cleaning Data"
      ],
      "metadata": {
        "id": "OHNmn4evWxkL"
      }
    },
    {
      "cell_type": "code",
      "source": [
        "# Identifying data types\n",
        "\n",
        "df.info()"
      ],
      "metadata": {
        "id": "vbOMla_RW5Ix",
        "outputId": "999ec350-30a7-44d0-a957-64146c0375ad",
        "colab": {
          "base_uri": "https://localhost:8080/"
        }
      },
      "execution_count": 5,
      "outputs": [
        {
          "output_type": "stream",
          "name": "stdout",
          "text": [
            "<class 'pandas.core.frame.DataFrame'>\n",
            "RangeIndex: 8523 entries, 0 to 8522\n",
            "Data columns (total 12 columns):\n",
            " #   Column                     Non-Null Count  Dtype  \n",
            "---  ------                     --------------  -----  \n",
            " 0   Item_Identifier            8523 non-null   object \n",
            " 1   Item_Weight                7060 non-null   float64\n",
            " 2   Item_Fat_Content           8523 non-null   object \n",
            " 3   Item_Visibility            8523 non-null   float64\n",
            " 4   Item_Type                  8523 non-null   object \n",
            " 5   Item_MRP                   8523 non-null   float64\n",
            " 6   Outlet_Identifier          8523 non-null   object \n",
            " 7   Outlet_Establishment_Year  8523 non-null   int64  \n",
            " 8   Outlet_Size                6113 non-null   object \n",
            " 9   Outlet_Location_Type       8523 non-null   object \n",
            " 10  Outlet_Type                8523 non-null   object \n",
            " 11  Item_Outlet_Sales          8523 non-null   float64\n",
            "dtypes: float64(4), int64(1), object(7)\n",
            "memory usage: 799.2+ KB\n"
          ]
        }
      ]
    },
    {
      "cell_type": "code",
      "source": [
        "# 1) How many rows and columns?\n",
        "\n",
        "# Running df.shape for rows and columns checking\n",
        "\n",
        "df.shape\n",
        "print( 'Rows and Columns', (df.shape))"
      ],
      "metadata": {
        "id": "C3rNU1QyW-B3",
        "outputId": "56c1a8df-b836-4e1c-ca93-2705df81eb14",
        "colab": {
          "base_uri": "https://localhost:8080/"
        }
      },
      "execution_count": 6,
      "outputs": [
        {
          "output_type": "stream",
          "name": "stdout",
          "text": [
            "Rows and Columns (8523, 12)\n"
          ]
        }
      ]
    },
    {
      "cell_type": "code",
      "source": [
        "# 2) What are the datatypes of each variable?\n",
        "\n",
        "# Checking for data types\n",
        "\n",
        "df.dtypes"
      ],
      "metadata": {
        "id": "kDhxd186XBn7",
        "outputId": "a3acc531-b585-474a-914d-cb61a31a6549",
        "colab": {
          "base_uri": "https://localhost:8080/"
        }
      },
      "execution_count": 7,
      "outputs": [
        {
          "output_type": "execute_result",
          "data": {
            "text/plain": [
              "Item_Identifier               object\n",
              "Item_Weight                  float64\n",
              "Item_Fat_Content              object\n",
              "Item_Visibility              float64\n",
              "Item_Type                     object\n",
              "Item_MRP                     float64\n",
              "Outlet_Identifier             object\n",
              "Outlet_Establishment_Year      int64\n",
              "Outlet_Size                   object\n",
              "Outlet_Location_Type          object\n",
              "Outlet_Type                   object\n",
              "Item_Outlet_Sales            float64\n",
              "dtype: object"
            ]
          },
          "metadata": {},
          "execution_count": 7
        }
      ]
    },
    {
      "cell_type": "code",
      "source": [
        "# Checking and dropping duplicates\n",
        "\n",
        "df.duplicated().sum()\n",
        "print(\"Duplicates\", (df.duplicated().sum()))"
      ],
      "metadata": {
        "id": "ODeTpeAuXFs_",
        "outputId": "2fe4829c-3974-416e-e077-7db31f44211d",
        "colab": {
          "base_uri": "https://localhost:8080/"
        }
      },
      "execution_count": 8,
      "outputs": [
        {
          "output_type": "stream",
          "name": "stdout",
          "text": [
            "Duplicates 0\n"
          ]
        }
      ]
    },
    {
      "cell_type": "markdown",
      "source": [
        "**There are no duplicates in the dataset**"
      ],
      "metadata": {
        "id": "Msl0UxUpXKNH"
      }
    },
    {
      "cell_type": "code",
      "source": [
        "# Checking null or nan\n",
        "\n",
        "df.isna().sum()"
      ],
      "metadata": {
        "id": "HrMBX88KXLvW",
        "outputId": "5e8b27a8-2294-4197-e2eb-5a9cab6be626",
        "colab": {
          "base_uri": "https://localhost:8080/"
        }
      },
      "execution_count": 9,
      "outputs": [
        {
          "output_type": "execute_result",
          "data": {
            "text/plain": [
              "Item_Identifier                 0\n",
              "Item_Weight                  1463\n",
              "Item_Fat_Content                0\n",
              "Item_Visibility                 0\n",
              "Item_Type                       0\n",
              "Item_MRP                        0\n",
              "Outlet_Identifier               0\n",
              "Outlet_Establishment_Year       0\n",
              "Outlet_Size                  2410\n",
              "Outlet_Location_Type            0\n",
              "Outlet_Type                     0\n",
              "Item_Outlet_Sales               0\n",
              "dtype: int64"
            ]
          },
          "metadata": {},
          "execution_count": 9
        }
      ]
    },
    {
      "cell_type": "code",
      "source": [
        "# Checking Item_Weight column\n",
        "\n",
        "no_weight = df['Item_Weight'].isna()\n",
        "df.loc[no_weight, :]\n"
      ],
      "metadata": {
        "id": "Vse8oIeiXQq3",
        "outputId": "09678b94-0e5a-4832-eca9-9901e9f75241",
        "colab": {
          "base_uri": "https://localhost:8080/",
          "height": 661
        }
      },
      "execution_count": 10,
      "outputs": [
        {
          "output_type": "execute_result",
          "data": {
            "text/plain": [
              "     Item_Identifier  Item_Weight Item_Fat_Content  Item_Visibility  \\\n",
              "7              FDP10          NaN          Low Fat         0.127470   \n",
              "18             DRI11          NaN          Low Fat         0.034238   \n",
              "21             FDW12          NaN          Regular         0.035400   \n",
              "23             FDC37          NaN          Low Fat         0.057557   \n",
              "29             FDC14          NaN          Regular         0.072222   \n",
              "...              ...          ...              ...              ...   \n",
              "8485           DRK37          NaN          Low Fat         0.043792   \n",
              "8487           DRG13          NaN          Low Fat         0.037006   \n",
              "8488           NCN14          NaN          Low Fat         0.091473   \n",
              "8490           FDU44          NaN          Regular         0.102296   \n",
              "8504           NCN18          NaN          Low Fat         0.124111   \n",
              "\n",
              "                  Item_Type  Item_MRP Outlet_Identifier  \\\n",
              "7               Snack Foods  107.7622            OUT027   \n",
              "18              Hard Drinks  113.2834            OUT027   \n",
              "21             Baking Goods  144.5444            OUT027   \n",
              "23             Baking Goods  107.6938            OUT019   \n",
              "29                   Canned   43.6454            OUT019   \n",
              "...                     ...       ...               ...   \n",
              "8485            Soft Drinks  189.0530            OUT027   \n",
              "8487            Soft Drinks  164.7526            OUT027   \n",
              "8488                 Others  184.6608            OUT027   \n",
              "8490  Fruits and Vegetables  162.3552            OUT019   \n",
              "8504              Household  111.7544            OUT027   \n",
              "\n",
              "      Outlet_Establishment_Year Outlet_Size Outlet_Location_Type  \\\n",
              "7                          1985      Medium               Tier 3   \n",
              "18                         1985      Medium               Tier 3   \n",
              "21                         1985      Medium               Tier 3   \n",
              "23                         1985       Small               Tier 1   \n",
              "29                         1985       Small               Tier 1   \n",
              "...                         ...         ...                  ...   \n",
              "8485                       1985      Medium               Tier 3   \n",
              "8487                       1985      Medium               Tier 3   \n",
              "8488                       1985      Medium               Tier 3   \n",
              "8490                       1985       Small               Tier 1   \n",
              "8504                       1985      Medium               Tier 3   \n",
              "\n",
              "            Outlet_Type  Item_Outlet_Sales  \n",
              "7     Supermarket Type3          4022.7636  \n",
              "18    Supermarket Type3          2303.6680  \n",
              "21    Supermarket Type3          4064.0432  \n",
              "23        Grocery Store           214.3876  \n",
              "29        Grocery Store           125.8362  \n",
              "...                 ...                ...  \n",
              "8485  Supermarket Type3          6261.8490  \n",
              "8487  Supermarket Type3          4111.3150  \n",
              "8488  Supermarket Type3          2756.4120  \n",
              "8490      Grocery Store           487.3656  \n",
              "8504  Supermarket Type3          4138.6128  \n",
              "\n",
              "[1463 rows x 12 columns]"
            ],
            "text/html": [
              "\n",
              "  <div id=\"df-2bf6864f-3da3-45c1-8d3f-c3257bfe0bd7\">\n",
              "    <div class=\"colab-df-container\">\n",
              "      <div>\n",
              "<style scoped>\n",
              "    .dataframe tbody tr th:only-of-type {\n",
              "        vertical-align: middle;\n",
              "    }\n",
              "\n",
              "    .dataframe tbody tr th {\n",
              "        vertical-align: top;\n",
              "    }\n",
              "\n",
              "    .dataframe thead th {\n",
              "        text-align: right;\n",
              "    }\n",
              "</style>\n",
              "<table border=\"1\" class=\"dataframe\">\n",
              "  <thead>\n",
              "    <tr style=\"text-align: right;\">\n",
              "      <th></th>\n",
              "      <th>Item_Identifier</th>\n",
              "      <th>Item_Weight</th>\n",
              "      <th>Item_Fat_Content</th>\n",
              "      <th>Item_Visibility</th>\n",
              "      <th>Item_Type</th>\n",
              "      <th>Item_MRP</th>\n",
              "      <th>Outlet_Identifier</th>\n",
              "      <th>Outlet_Establishment_Year</th>\n",
              "      <th>Outlet_Size</th>\n",
              "      <th>Outlet_Location_Type</th>\n",
              "      <th>Outlet_Type</th>\n",
              "      <th>Item_Outlet_Sales</th>\n",
              "    </tr>\n",
              "  </thead>\n",
              "  <tbody>\n",
              "    <tr>\n",
              "      <th>7</th>\n",
              "      <td>FDP10</td>\n",
              "      <td>NaN</td>\n",
              "      <td>Low Fat</td>\n",
              "      <td>0.127470</td>\n",
              "      <td>Snack Foods</td>\n",
              "      <td>107.7622</td>\n",
              "      <td>OUT027</td>\n",
              "      <td>1985</td>\n",
              "      <td>Medium</td>\n",
              "      <td>Tier 3</td>\n",
              "      <td>Supermarket Type3</td>\n",
              "      <td>4022.7636</td>\n",
              "    </tr>\n",
              "    <tr>\n",
              "      <th>18</th>\n",
              "      <td>DRI11</td>\n",
              "      <td>NaN</td>\n",
              "      <td>Low Fat</td>\n",
              "      <td>0.034238</td>\n",
              "      <td>Hard Drinks</td>\n",
              "      <td>113.2834</td>\n",
              "      <td>OUT027</td>\n",
              "      <td>1985</td>\n",
              "      <td>Medium</td>\n",
              "      <td>Tier 3</td>\n",
              "      <td>Supermarket Type3</td>\n",
              "      <td>2303.6680</td>\n",
              "    </tr>\n",
              "    <tr>\n",
              "      <th>21</th>\n",
              "      <td>FDW12</td>\n",
              "      <td>NaN</td>\n",
              "      <td>Regular</td>\n",
              "      <td>0.035400</td>\n",
              "      <td>Baking Goods</td>\n",
              "      <td>144.5444</td>\n",
              "      <td>OUT027</td>\n",
              "      <td>1985</td>\n",
              "      <td>Medium</td>\n",
              "      <td>Tier 3</td>\n",
              "      <td>Supermarket Type3</td>\n",
              "      <td>4064.0432</td>\n",
              "    </tr>\n",
              "    <tr>\n",
              "      <th>23</th>\n",
              "      <td>FDC37</td>\n",
              "      <td>NaN</td>\n",
              "      <td>Low Fat</td>\n",
              "      <td>0.057557</td>\n",
              "      <td>Baking Goods</td>\n",
              "      <td>107.6938</td>\n",
              "      <td>OUT019</td>\n",
              "      <td>1985</td>\n",
              "      <td>Small</td>\n",
              "      <td>Tier 1</td>\n",
              "      <td>Grocery Store</td>\n",
              "      <td>214.3876</td>\n",
              "    </tr>\n",
              "    <tr>\n",
              "      <th>29</th>\n",
              "      <td>FDC14</td>\n",
              "      <td>NaN</td>\n",
              "      <td>Regular</td>\n",
              "      <td>0.072222</td>\n",
              "      <td>Canned</td>\n",
              "      <td>43.6454</td>\n",
              "      <td>OUT019</td>\n",
              "      <td>1985</td>\n",
              "      <td>Small</td>\n",
              "      <td>Tier 1</td>\n",
              "      <td>Grocery Store</td>\n",
              "      <td>125.8362</td>\n",
              "    </tr>\n",
              "    <tr>\n",
              "      <th>...</th>\n",
              "      <td>...</td>\n",
              "      <td>...</td>\n",
              "      <td>...</td>\n",
              "      <td>...</td>\n",
              "      <td>...</td>\n",
              "      <td>...</td>\n",
              "      <td>...</td>\n",
              "      <td>...</td>\n",
              "      <td>...</td>\n",
              "      <td>...</td>\n",
              "      <td>...</td>\n",
              "      <td>...</td>\n",
              "    </tr>\n",
              "    <tr>\n",
              "      <th>8485</th>\n",
              "      <td>DRK37</td>\n",
              "      <td>NaN</td>\n",
              "      <td>Low Fat</td>\n",
              "      <td>0.043792</td>\n",
              "      <td>Soft Drinks</td>\n",
              "      <td>189.0530</td>\n",
              "      <td>OUT027</td>\n",
              "      <td>1985</td>\n",
              "      <td>Medium</td>\n",
              "      <td>Tier 3</td>\n",
              "      <td>Supermarket Type3</td>\n",
              "      <td>6261.8490</td>\n",
              "    </tr>\n",
              "    <tr>\n",
              "      <th>8487</th>\n",
              "      <td>DRG13</td>\n",
              "      <td>NaN</td>\n",
              "      <td>Low Fat</td>\n",
              "      <td>0.037006</td>\n",
              "      <td>Soft Drinks</td>\n",
              "      <td>164.7526</td>\n",
              "      <td>OUT027</td>\n",
              "      <td>1985</td>\n",
              "      <td>Medium</td>\n",
              "      <td>Tier 3</td>\n",
              "      <td>Supermarket Type3</td>\n",
              "      <td>4111.3150</td>\n",
              "    </tr>\n",
              "    <tr>\n",
              "      <th>8488</th>\n",
              "      <td>NCN14</td>\n",
              "      <td>NaN</td>\n",
              "      <td>Low Fat</td>\n",
              "      <td>0.091473</td>\n",
              "      <td>Others</td>\n",
              "      <td>184.6608</td>\n",
              "      <td>OUT027</td>\n",
              "      <td>1985</td>\n",
              "      <td>Medium</td>\n",
              "      <td>Tier 3</td>\n",
              "      <td>Supermarket Type3</td>\n",
              "      <td>2756.4120</td>\n",
              "    </tr>\n",
              "    <tr>\n",
              "      <th>8490</th>\n",
              "      <td>FDU44</td>\n",
              "      <td>NaN</td>\n",
              "      <td>Regular</td>\n",
              "      <td>0.102296</td>\n",
              "      <td>Fruits and Vegetables</td>\n",
              "      <td>162.3552</td>\n",
              "      <td>OUT019</td>\n",
              "      <td>1985</td>\n",
              "      <td>Small</td>\n",
              "      <td>Tier 1</td>\n",
              "      <td>Grocery Store</td>\n",
              "      <td>487.3656</td>\n",
              "    </tr>\n",
              "    <tr>\n",
              "      <th>8504</th>\n",
              "      <td>NCN18</td>\n",
              "      <td>NaN</td>\n",
              "      <td>Low Fat</td>\n",
              "      <td>0.124111</td>\n",
              "      <td>Household</td>\n",
              "      <td>111.7544</td>\n",
              "      <td>OUT027</td>\n",
              "      <td>1985</td>\n",
              "      <td>Medium</td>\n",
              "      <td>Tier 3</td>\n",
              "      <td>Supermarket Type3</td>\n",
              "      <td>4138.6128</td>\n",
              "    </tr>\n",
              "  </tbody>\n",
              "</table>\n",
              "<p>1463 rows × 12 columns</p>\n",
              "</div>\n",
              "      <button class=\"colab-df-convert\" onclick=\"convertToInteractive('df-2bf6864f-3da3-45c1-8d3f-c3257bfe0bd7')\"\n",
              "              title=\"Convert this dataframe to an interactive table.\"\n",
              "              style=\"display:none;\">\n",
              "        \n",
              "  <svg xmlns=\"http://www.w3.org/2000/svg\" height=\"24px\"viewBox=\"0 0 24 24\"\n",
              "       width=\"24px\">\n",
              "    <path d=\"M0 0h24v24H0V0z\" fill=\"none\"/>\n",
              "    <path d=\"M18.56 5.44l.94 2.06.94-2.06 2.06-.94-2.06-.94-.94-2.06-.94 2.06-2.06.94zm-11 1L8.5 8.5l.94-2.06 2.06-.94-2.06-.94L8.5 2.5l-.94 2.06-2.06.94zm10 10l.94 2.06.94-2.06 2.06-.94-2.06-.94-.94-2.06-.94 2.06-2.06.94z\"/><path d=\"M17.41 7.96l-1.37-1.37c-.4-.4-.92-.59-1.43-.59-.52 0-1.04.2-1.43.59L10.3 9.45l-7.72 7.72c-.78.78-.78 2.05 0 2.83L4 21.41c.39.39.9.59 1.41.59.51 0 1.02-.2 1.41-.59l7.78-7.78 2.81-2.81c.8-.78.8-2.07 0-2.86zM5.41 20L4 18.59l7.72-7.72 1.47 1.35L5.41 20z\"/>\n",
              "  </svg>\n",
              "      </button>\n",
              "      \n",
              "  <style>\n",
              "    .colab-df-container {\n",
              "      display:flex;\n",
              "      flex-wrap:wrap;\n",
              "      gap: 12px;\n",
              "    }\n",
              "\n",
              "    .colab-df-convert {\n",
              "      background-color: #E8F0FE;\n",
              "      border: none;\n",
              "      border-radius: 50%;\n",
              "      cursor: pointer;\n",
              "      display: none;\n",
              "      fill: #1967D2;\n",
              "      height: 32px;\n",
              "      padding: 0 0 0 0;\n",
              "      width: 32px;\n",
              "    }\n",
              "\n",
              "    .colab-df-convert:hover {\n",
              "      background-color: #E2EBFA;\n",
              "      box-shadow: 0px 1px 2px rgba(60, 64, 67, 0.3), 0px 1px 3px 1px rgba(60, 64, 67, 0.15);\n",
              "      fill: #174EA6;\n",
              "    }\n",
              "\n",
              "    [theme=dark] .colab-df-convert {\n",
              "      background-color: #3B4455;\n",
              "      fill: #D2E3FC;\n",
              "    }\n",
              "\n",
              "    [theme=dark] .colab-df-convert:hover {\n",
              "      background-color: #434B5C;\n",
              "      box-shadow: 0px 1px 3px 1px rgba(0, 0, 0, 0.15);\n",
              "      filter: drop-shadow(0px 1px 2px rgba(0, 0, 0, 0.3));\n",
              "      fill: #FFFFFF;\n",
              "    }\n",
              "  </style>\n",
              "\n",
              "      <script>\n",
              "        const buttonEl =\n",
              "          document.querySelector('#df-2bf6864f-3da3-45c1-8d3f-c3257bfe0bd7 button.colab-df-convert');\n",
              "        buttonEl.style.display =\n",
              "          google.colab.kernel.accessAllowed ? 'block' : 'none';\n",
              "\n",
              "        async function convertToInteractive(key) {\n",
              "          const element = document.querySelector('#df-2bf6864f-3da3-45c1-8d3f-c3257bfe0bd7');\n",
              "          const dataTable =\n",
              "            await google.colab.kernel.invokeFunction('convertToInteractive',\n",
              "                                                     [key], {});\n",
              "          if (!dataTable) return;\n",
              "\n",
              "          const docLinkHtml = 'Like what you see? Visit the ' +\n",
              "            '<a target=\"_blank\" href=https://colab.research.google.com/notebooks/data_table.ipynb>data table notebook</a>'\n",
              "            + ' to learn more about interactive tables.';\n",
              "          element.innerHTML = '';\n",
              "          dataTable['output_type'] = 'display_data';\n",
              "          await google.colab.output.renderOutput(dataTable, element);\n",
              "          const docLink = document.createElement('div');\n",
              "          docLink.innerHTML = docLinkHtml;\n",
              "          element.appendChild(docLink);\n",
              "        }\n",
              "      </script>\n",
              "    </div>\n",
              "  </div>\n",
              "  "
            ]
          },
          "metadata": {},
          "execution_count": 10
        }
      ]
    },
    {
      "cell_type": "code",
      "source": [
        "# Dropping columns with NAN values as they are not necessary\n",
        "\n",
        "df.drop(columns= 'Item_Weight', inplace = True)\n",
        "df.drop(columns= 'Outlet_Size', inplace = True)"
      ],
      "metadata": {
        "id": "DMFqJeWYXUMY"
      },
      "execution_count": 11,
      "outputs": []
    },
    {
      "cell_type": "markdown",
      "source": [
        "**Dropping both columns, although each column are having large numbers, I believe they have minimal to no effect in sales prediction or calculating income**"
      ],
      "metadata": {
        "id": "gkUCGUlcXZv0"
      }
    },
    {
      "cell_type": "markdown",
      "source": [
        "## Dataframe after dropping columns with NAN/null values"
      ],
      "metadata": {
        "id": "35iu9EHkXtNv"
      }
    },
    {
      "cell_type": "code",
      "source": [
        "# Checking dataframe after dropping columns\n",
        "\n",
        "df.head()"
      ],
      "metadata": {
        "id": "ZlhQDXhgXd5R",
        "outputId": "239ff0d6-b202-4636-aec2-3698435f79a3",
        "colab": {
          "base_uri": "https://localhost:8080/",
          "height": 0
        }
      },
      "execution_count": 12,
      "outputs": [
        {
          "output_type": "execute_result",
          "data": {
            "text/plain": [
              "  Item_Identifier Item_Fat_Content  Item_Visibility              Item_Type  \\\n",
              "0           FDA15          Low Fat         0.016047                  Dairy   \n",
              "1           DRC01          Regular         0.019278            Soft Drinks   \n",
              "2           FDN15          Low Fat         0.016760                   Meat   \n",
              "3           FDX07          Regular         0.000000  Fruits and Vegetables   \n",
              "4           NCD19          Low Fat         0.000000              Household   \n",
              "\n",
              "   Item_MRP Outlet_Identifier  Outlet_Establishment_Year Outlet_Location_Type  \\\n",
              "0  249.8092            OUT049                       1999               Tier 1   \n",
              "1   48.2692            OUT018                       2009               Tier 3   \n",
              "2  141.6180            OUT049                       1999               Tier 1   \n",
              "3  182.0950            OUT010                       1998               Tier 3   \n",
              "4   53.8614            OUT013                       1987               Tier 3   \n",
              "\n",
              "         Outlet_Type  Item_Outlet_Sales  \n",
              "0  Supermarket Type1          3735.1380  \n",
              "1  Supermarket Type2           443.4228  \n",
              "2  Supermarket Type1          2097.2700  \n",
              "3      Grocery Store           732.3800  \n",
              "4  Supermarket Type1           994.7052  "
            ],
            "text/html": [
              "\n",
              "  <div id=\"df-a7b31b7f-1f80-4319-987f-0802ac4e8af0\">\n",
              "    <div class=\"colab-df-container\">\n",
              "      <div>\n",
              "<style scoped>\n",
              "    .dataframe tbody tr th:only-of-type {\n",
              "        vertical-align: middle;\n",
              "    }\n",
              "\n",
              "    .dataframe tbody tr th {\n",
              "        vertical-align: top;\n",
              "    }\n",
              "\n",
              "    .dataframe thead th {\n",
              "        text-align: right;\n",
              "    }\n",
              "</style>\n",
              "<table border=\"1\" class=\"dataframe\">\n",
              "  <thead>\n",
              "    <tr style=\"text-align: right;\">\n",
              "      <th></th>\n",
              "      <th>Item_Identifier</th>\n",
              "      <th>Item_Fat_Content</th>\n",
              "      <th>Item_Visibility</th>\n",
              "      <th>Item_Type</th>\n",
              "      <th>Item_MRP</th>\n",
              "      <th>Outlet_Identifier</th>\n",
              "      <th>Outlet_Establishment_Year</th>\n",
              "      <th>Outlet_Location_Type</th>\n",
              "      <th>Outlet_Type</th>\n",
              "      <th>Item_Outlet_Sales</th>\n",
              "    </tr>\n",
              "  </thead>\n",
              "  <tbody>\n",
              "    <tr>\n",
              "      <th>0</th>\n",
              "      <td>FDA15</td>\n",
              "      <td>Low Fat</td>\n",
              "      <td>0.016047</td>\n",
              "      <td>Dairy</td>\n",
              "      <td>249.8092</td>\n",
              "      <td>OUT049</td>\n",
              "      <td>1999</td>\n",
              "      <td>Tier 1</td>\n",
              "      <td>Supermarket Type1</td>\n",
              "      <td>3735.1380</td>\n",
              "    </tr>\n",
              "    <tr>\n",
              "      <th>1</th>\n",
              "      <td>DRC01</td>\n",
              "      <td>Regular</td>\n",
              "      <td>0.019278</td>\n",
              "      <td>Soft Drinks</td>\n",
              "      <td>48.2692</td>\n",
              "      <td>OUT018</td>\n",
              "      <td>2009</td>\n",
              "      <td>Tier 3</td>\n",
              "      <td>Supermarket Type2</td>\n",
              "      <td>443.4228</td>\n",
              "    </tr>\n",
              "    <tr>\n",
              "      <th>2</th>\n",
              "      <td>FDN15</td>\n",
              "      <td>Low Fat</td>\n",
              "      <td>0.016760</td>\n",
              "      <td>Meat</td>\n",
              "      <td>141.6180</td>\n",
              "      <td>OUT049</td>\n",
              "      <td>1999</td>\n",
              "      <td>Tier 1</td>\n",
              "      <td>Supermarket Type1</td>\n",
              "      <td>2097.2700</td>\n",
              "    </tr>\n",
              "    <tr>\n",
              "      <th>3</th>\n",
              "      <td>FDX07</td>\n",
              "      <td>Regular</td>\n",
              "      <td>0.000000</td>\n",
              "      <td>Fruits and Vegetables</td>\n",
              "      <td>182.0950</td>\n",
              "      <td>OUT010</td>\n",
              "      <td>1998</td>\n",
              "      <td>Tier 3</td>\n",
              "      <td>Grocery Store</td>\n",
              "      <td>732.3800</td>\n",
              "    </tr>\n",
              "    <tr>\n",
              "      <th>4</th>\n",
              "      <td>NCD19</td>\n",
              "      <td>Low Fat</td>\n",
              "      <td>0.000000</td>\n",
              "      <td>Household</td>\n",
              "      <td>53.8614</td>\n",
              "      <td>OUT013</td>\n",
              "      <td>1987</td>\n",
              "      <td>Tier 3</td>\n",
              "      <td>Supermarket Type1</td>\n",
              "      <td>994.7052</td>\n",
              "    </tr>\n",
              "  </tbody>\n",
              "</table>\n",
              "</div>\n",
              "      <button class=\"colab-df-convert\" onclick=\"convertToInteractive('df-a7b31b7f-1f80-4319-987f-0802ac4e8af0')\"\n",
              "              title=\"Convert this dataframe to an interactive table.\"\n",
              "              style=\"display:none;\">\n",
              "        \n",
              "  <svg xmlns=\"http://www.w3.org/2000/svg\" height=\"24px\"viewBox=\"0 0 24 24\"\n",
              "       width=\"24px\">\n",
              "    <path d=\"M0 0h24v24H0V0z\" fill=\"none\"/>\n",
              "    <path d=\"M18.56 5.44l.94 2.06.94-2.06 2.06-.94-2.06-.94-.94-2.06-.94 2.06-2.06.94zm-11 1L8.5 8.5l.94-2.06 2.06-.94-2.06-.94L8.5 2.5l-.94 2.06-2.06.94zm10 10l.94 2.06.94-2.06 2.06-.94-2.06-.94-.94-2.06-.94 2.06-2.06.94z\"/><path d=\"M17.41 7.96l-1.37-1.37c-.4-.4-.92-.59-1.43-.59-.52 0-1.04.2-1.43.59L10.3 9.45l-7.72 7.72c-.78.78-.78 2.05 0 2.83L4 21.41c.39.39.9.59 1.41.59.51 0 1.02-.2 1.41-.59l7.78-7.78 2.81-2.81c.8-.78.8-2.07 0-2.86zM5.41 20L4 18.59l7.72-7.72 1.47 1.35L5.41 20z\"/>\n",
              "  </svg>\n",
              "      </button>\n",
              "      \n",
              "  <style>\n",
              "    .colab-df-container {\n",
              "      display:flex;\n",
              "      flex-wrap:wrap;\n",
              "      gap: 12px;\n",
              "    }\n",
              "\n",
              "    .colab-df-convert {\n",
              "      background-color: #E8F0FE;\n",
              "      border: none;\n",
              "      border-radius: 50%;\n",
              "      cursor: pointer;\n",
              "      display: none;\n",
              "      fill: #1967D2;\n",
              "      height: 32px;\n",
              "      padding: 0 0 0 0;\n",
              "      width: 32px;\n",
              "    }\n",
              "\n",
              "    .colab-df-convert:hover {\n",
              "      background-color: #E2EBFA;\n",
              "      box-shadow: 0px 1px 2px rgba(60, 64, 67, 0.3), 0px 1px 3px 1px rgba(60, 64, 67, 0.15);\n",
              "      fill: #174EA6;\n",
              "    }\n",
              "\n",
              "    [theme=dark] .colab-df-convert {\n",
              "      background-color: #3B4455;\n",
              "      fill: #D2E3FC;\n",
              "    }\n",
              "\n",
              "    [theme=dark] .colab-df-convert:hover {\n",
              "      background-color: #434B5C;\n",
              "      box-shadow: 0px 1px 3px 1px rgba(0, 0, 0, 0.15);\n",
              "      filter: drop-shadow(0px 1px 2px rgba(0, 0, 0, 0.3));\n",
              "      fill: #FFFFFF;\n",
              "    }\n",
              "  </style>\n",
              "\n",
              "      <script>\n",
              "        const buttonEl =\n",
              "          document.querySelector('#df-a7b31b7f-1f80-4319-987f-0802ac4e8af0 button.colab-df-convert');\n",
              "        buttonEl.style.display =\n",
              "          google.colab.kernel.accessAllowed ? 'block' : 'none';\n",
              "\n",
              "        async function convertToInteractive(key) {\n",
              "          const element = document.querySelector('#df-a7b31b7f-1f80-4319-987f-0802ac4e8af0');\n",
              "          const dataTable =\n",
              "            await google.colab.kernel.invokeFunction('convertToInteractive',\n",
              "                                                     [key], {});\n",
              "          if (!dataTable) return;\n",
              "\n",
              "          const docLinkHtml = 'Like what you see? Visit the ' +\n",
              "            '<a target=\"_blank\" href=https://colab.research.google.com/notebooks/data_table.ipynb>data table notebook</a>'\n",
              "            + ' to learn more about interactive tables.';\n",
              "          element.innerHTML = '';\n",
              "          dataTable['output_type'] = 'display_data';\n",
              "          await google.colab.output.renderOutput(dataTable, element);\n",
              "          const docLink = document.createElement('div');\n",
              "          docLink.innerHTML = docLinkHtml;\n",
              "          element.appendChild(docLink);\n",
              "        }\n",
              "      </script>\n",
              "    </div>\n",
              "  </div>\n",
              "  "
            ]
          },
          "metadata": {},
          "execution_count": 12
        }
      ]
    },
    {
      "cell_type": "code",
      "source": [
        "# Checking data information after dropping columns\n",
        "\n",
        "df.info()"
      ],
      "metadata": {
        "id": "eVErL5SAXhdG",
        "outputId": "e6941f3a-81cd-4943-bb06-05d8c6e3ad7c",
        "colab": {
          "base_uri": "https://localhost:8080/"
        }
      },
      "execution_count": 13,
      "outputs": [
        {
          "output_type": "stream",
          "name": "stdout",
          "text": [
            "<class 'pandas.core.frame.DataFrame'>\n",
            "RangeIndex: 8523 entries, 0 to 8522\n",
            "Data columns (total 10 columns):\n",
            " #   Column                     Non-Null Count  Dtype  \n",
            "---  ------                     --------------  -----  \n",
            " 0   Item_Identifier            8523 non-null   object \n",
            " 1   Item_Fat_Content           8523 non-null   object \n",
            " 2   Item_Visibility            8523 non-null   float64\n",
            " 3   Item_Type                  8523 non-null   object \n",
            " 4   Item_MRP                   8523 non-null   float64\n",
            " 5   Outlet_Identifier          8523 non-null   object \n",
            " 6   Outlet_Establishment_Year  8523 non-null   int64  \n",
            " 7   Outlet_Location_Type       8523 non-null   object \n",
            " 8   Outlet_Type                8523 non-null   object \n",
            " 9   Item_Outlet_Sales          8523 non-null   float64\n",
            "dtypes: float64(3), int64(1), object(6)\n",
            "memory usage: 666.0+ KB\n"
          ]
        }
      ]
    },
    {
      "cell_type": "markdown",
      "source": [
        "## Checking for inconsistencies"
      ],
      "metadata": {
        "id": "yF6135lXYC0G"
      }
    },
    {
      "cell_type": "code",
      "source": [
        "# Checking for inconsistencies\n",
        "\n",
        "# Get column names\n",
        "column_names = df.columns\n",
        "\n",
        "# Iterate each column\n",
        "for columns in column_names:\n",
        "    print(columns,df[columns].unique())\n"
      ],
      "metadata": {
        "id": "FsCISxfkYHIx",
        "outputId": "d4c6152b-2c4e-4896-e817-58ad75ec7f36",
        "colab": {
          "base_uri": "https://localhost:8080/"
        }
      },
      "execution_count": 14,
      "outputs": [
        {
          "output_type": "stream",
          "name": "stdout",
          "text": [
            "Item_Identifier ['FDA15' 'DRC01' 'FDN15' ... 'NCF55' 'NCW30' 'NCW05']\n",
            "Item_Fat_Content ['Low Fat' 'Regular' 'low fat' 'LF' 'reg']\n",
            "Item_Visibility [0.0160473  0.01927822 0.01676007 ... 0.03518627 0.14522065 0.04487828]\n",
            "Item_Type ['Dairy' 'Soft Drinks' 'Meat' 'Fruits and Vegetables' 'Household'\n",
            " 'Baking Goods' 'Snack Foods' 'Frozen Foods' 'Breakfast'\n",
            " 'Health and Hygiene' 'Hard Drinks' 'Canned' 'Breads' 'Starchy Foods'\n",
            " 'Others' 'Seafood']\n",
            "Item_MRP [249.8092  48.2692 141.618  ...  57.5904 214.5218  75.467 ]\n",
            "Outlet_Identifier ['OUT049' 'OUT018' 'OUT010' 'OUT013' 'OUT027' 'OUT045' 'OUT017' 'OUT046'\n",
            " 'OUT035' 'OUT019']\n",
            "Outlet_Establishment_Year [1999 2009 1998 1987 1985 2002 2007 1997 2004]\n",
            "Outlet_Location_Type ['Tier 1' 'Tier 3' 'Tier 2']\n",
            "Outlet_Type ['Supermarket Type1' 'Supermarket Type2' 'Grocery Store'\n",
            " 'Supermarket Type3']\n",
            "Item_Outlet_Sales [3735.138   443.4228 2097.27   ... 7182.6504 3608.636  2778.3834]\n"
          ]
        }
      ]
    },
    {
      "cell_type": "code",
      "source": [
        "# Checking for inconsistencies for categorical data\n",
        "\n",
        "df_cat = df.select_dtypes(include=['object'])\n",
        "\n",
        "cat_names = df_cat.columns\n",
        "\n",
        "# Iterate each column\n",
        "\n",
        "for columns in cat_names:\n",
        "    print(columns,df[columns].unique())"
      ],
      "metadata": {
        "id": "EsM4GDTuYL86",
        "outputId": "67aaa5e6-aae0-4b96-ded1-06360dbdc430",
        "colab": {
          "base_uri": "https://localhost:8080/"
        }
      },
      "execution_count": 15,
      "outputs": [
        {
          "output_type": "stream",
          "name": "stdout",
          "text": [
            "Item_Identifier ['FDA15' 'DRC01' 'FDN15' ... 'NCF55' 'NCW30' 'NCW05']\n",
            "Item_Fat_Content ['Low Fat' 'Regular' 'low fat' 'LF' 'reg']\n",
            "Item_Type ['Dairy' 'Soft Drinks' 'Meat' 'Fruits and Vegetables' 'Household'\n",
            " 'Baking Goods' 'Snack Foods' 'Frozen Foods' 'Breakfast'\n",
            " 'Health and Hygiene' 'Hard Drinks' 'Canned' 'Breads' 'Starchy Foods'\n",
            " 'Others' 'Seafood']\n",
            "Outlet_Identifier ['OUT049' 'OUT018' 'OUT010' 'OUT013' 'OUT027' 'OUT045' 'OUT017' 'OUT046'\n",
            " 'OUT035' 'OUT019']\n",
            "Outlet_Location_Type ['Tier 1' 'Tier 3' 'Tier 2']\n",
            "Outlet_Type ['Supermarket Type1' 'Supermarket Type2' 'Grocery Store'\n",
            " 'Supermarket Type3']\n"
          ]
        }
      ]
    },
    {
      "cell_type": "code",
      "source": [
        "# Checking for inconsistencies for numerical data\n",
        "\n",
        "df_num = df.select_dtypes(include=['int64','float64'])\n",
        "\n",
        "num_names = df_num.columns\n",
        "\n",
        "# Iterate each column\n",
        "\n",
        "for columns in num_names:\n",
        "    print(columns,df[columns].unique())"
      ],
      "metadata": {
        "id": "q5LrQHeEYXWG",
        "outputId": "1e1ccdc8-5e8f-4280-f4de-b7937369a0fc",
        "colab": {
          "base_uri": "https://localhost:8080/"
        }
      },
      "execution_count": 16,
      "outputs": [
        {
          "output_type": "stream",
          "name": "stdout",
          "text": [
            "Item_Visibility [0.0160473  0.01927822 0.01676007 ... 0.03518627 0.14522065 0.04487828]\n",
            "Item_MRP [249.8092  48.2692 141.618  ...  57.5904 214.5218  75.467 ]\n",
            "Outlet_Establishment_Year [1999 2009 1998 1987 1985 2002 2007 1997 2004]\n",
            "Item_Outlet_Sales [3735.138   443.4228 2097.27   ... 7182.6504 3608.636  2778.3834]\n"
          ]
        }
      ]
    },
    {
      "cell_type": "markdown",
      "source": [
        "## Validating content of categorical columns"
      ],
      "metadata": {
        "id": "rMG29jVEYa2P"
      }
    },
    {
      "cell_type": "code",
      "source": [
        "# Checking for value counts\n",
        "\n",
        "ID = df['Item_Identifier']\n",
        "ID.value_counts()"
      ],
      "metadata": {
        "id": "aZ7dpMARY-Pu",
        "outputId": "ff8537bf-e3a9-410a-c80a-43913eddb6d7",
        "colab": {
          "base_uri": "https://localhost:8080/"
        }
      },
      "execution_count": 17,
      "outputs": [
        {
          "output_type": "execute_result",
          "data": {
            "text/plain": [
              "FDW13    10\n",
              "FDG33    10\n",
              "NCY18     9\n",
              "FDD38     9\n",
              "DRE49     9\n",
              "         ..\n",
              "FDY43     1\n",
              "FDQ60     1\n",
              "FDO33     1\n",
              "DRF48     1\n",
              "FDC23     1\n",
              "Name: Item_Identifier, Length: 1559, dtype: int64"
            ]
          },
          "metadata": {},
          "execution_count": 17
        }
      ]
    },
    {
      "cell_type": "code",
      "source": [
        "len(ID)"
      ],
      "metadata": {
        "id": "BOll7cllh9Ih",
        "outputId": "f6274cb2-99de-4a96-f151-328994ab01bb",
        "colab": {
          "base_uri": "https://localhost:8080/"
        }
      },
      "execution_count": 18,
      "outputs": [
        {
          "output_type": "execute_result",
          "data": {
            "text/plain": [
              "8523"
            ]
          },
          "metadata": {},
          "execution_count": 18
        }
      ]
    },
    {
      "cell_type": "code",
      "source": [
        "#Checking integrity of  entries\n",
        "\n",
        "FDW = ID == 'FDW13'\n",
        "FDW.value_counts()"
      ],
      "metadata": {
        "id": "GjJr6GizZKA9",
        "outputId": "caae0b1a-eb48-4039-9833-b8eeaa13bb76",
        "colab": {
          "base_uri": "https://localhost:8080/"
        }
      },
      "execution_count": 19,
      "outputs": [
        {
          "output_type": "execute_result",
          "data": {
            "text/plain": [
              "False    8513\n",
              "True       10\n",
              "Name: Item_Identifier, dtype: int64"
            ]
          },
          "metadata": {},
          "execution_count": 19
        }
      ]
    },
    {
      "cell_type": "code",
      "source": [
        "#Checking integrity of  entries\n",
        "\n",
        "DR = ID == 'DRC01'\n",
        "DR.value_counts()"
      ],
      "metadata": {
        "id": "f-UWaMH9ZWNx",
        "outputId": "e7219d2c-d552-4ca3-faea-bedfaf2d261a",
        "colab": {
          "base_uri": "https://localhost:8080/"
        }
      },
      "execution_count": 20,
      "outputs": [
        {
          "output_type": "execute_result",
          "data": {
            "text/plain": [
              "False    8517\n",
              "True        6\n",
              "Name: Item_Identifier, dtype: int64"
            ]
          },
          "metadata": {},
          "execution_count": 20
        }
      ]
    },
    {
      "cell_type": "markdown",
      "source": [
        "**The entries that are showing unique are identifiers of the items**"
      ],
      "metadata": {
        "id": "P3WMbSlJZasf"
      }
    },
    {
      "cell_type": "code",
      "source": [
        "# Filtering Item_Fat_Content column\n",
        "\n",
        "IFC = df['Item_Fat_Content']\n",
        "IFC.unique()"
      ],
      "metadata": {
        "id": "W9EAskHGZe7g",
        "outputId": "f4b298dc-d2e1-46ec-867b-db52198e1d80",
        "colab": {
          "base_uri": "https://localhost:8080/"
        }
      },
      "execution_count": 21,
      "outputs": [
        {
          "output_type": "execute_result",
          "data": {
            "text/plain": [
              "array(['Low Fat', 'Regular', 'low fat', 'LF', 'reg'], dtype=object)"
            ]
          },
          "metadata": {},
          "execution_count": 21
        }
      ]
    },
    {
      "cell_type": "code",
      "source": [
        "# Changing low fat and LF to Low Fat\n",
        "\n",
        "df.loc[df['Item_Fat_Content'] == 'low fat', 'Item_Fat_Content'] = 'Low Fat'\n",
        "df.loc[df['Item_Fat_Content'] == 'LF', 'Item_Fat_Content'] = 'Low Fat'\n",
        "\n",
        "# Changing reg to Regular\n",
        "\n",
        "df.loc[df['Item_Fat_Content'] == 'reg', 'Item_Fat_Content'] = 'Regular'"
      ],
      "metadata": {
        "id": "YHCIF5UOZihl"
      },
      "execution_count": 22,
      "outputs": []
    },
    {
      "cell_type": "code",
      "source": [
        "# Checking dataframe after changing variables (refer to above cell)\n",
        "\n",
        "cat_names\n",
        "\n",
        "# Iterate each column\n",
        "\n",
        "for columns in cat_names:\n",
        "    print(columns,df[columns].unique())"
      ],
      "metadata": {
        "id": "wvQMU_nbZl2p",
        "outputId": "575aeb73-6a70-4168-c5b6-2bf74b373c6b",
        "colab": {
          "base_uri": "https://localhost:8080/"
        }
      },
      "execution_count": 23,
      "outputs": [
        {
          "output_type": "stream",
          "name": "stdout",
          "text": [
            "Item_Identifier ['FDA15' 'DRC01' 'FDN15' ... 'NCF55' 'NCW30' 'NCW05']\n",
            "Item_Fat_Content ['Low Fat' 'Regular']\n",
            "Item_Type ['Dairy' 'Soft Drinks' 'Meat' 'Fruits and Vegetables' 'Household'\n",
            " 'Baking Goods' 'Snack Foods' 'Frozen Foods' 'Breakfast'\n",
            " 'Health and Hygiene' 'Hard Drinks' 'Canned' 'Breads' 'Starchy Foods'\n",
            " 'Others' 'Seafood']\n",
            "Outlet_Identifier ['OUT049' 'OUT018' 'OUT010' 'OUT013' 'OUT027' 'OUT045' 'OUT017' 'OUT046'\n",
            " 'OUT035' 'OUT019']\n",
            "Outlet_Location_Type ['Tier 1' 'Tier 3' 'Tier 2']\n",
            "Outlet_Type ['Supermarket Type1' 'Supermarket Type2' 'Grocery Store'\n",
            " 'Supermarket Type3']\n"
          ]
        }
      ]
    },
    {
      "cell_type": "code",
      "source": [
        "# Checking for Item_Fat_Content column for value counts\n",
        "\n",
        "IFC.value_counts()"
      ],
      "metadata": {
        "id": "69sWS-aLZpf5",
        "outputId": "f586d33e-740c-488f-b33b-63d39f8a5ae9",
        "colab": {
          "base_uri": "https://localhost:8080/"
        }
      },
      "execution_count": 24,
      "outputs": [
        {
          "output_type": "execute_result",
          "data": {
            "text/plain": [
              "Low Fat    5517\n",
              "Regular    3006\n",
              "Name: Item_Fat_Content, dtype: int64"
            ]
          },
          "metadata": {},
          "execution_count": 24
        }
      ]
    },
    {
      "cell_type": "code",
      "source": [
        "# Checking for Item_Type column for value counts\n",
        "\n",
        "I_Type= df['Item_Type']\n",
        "I_Type.value_counts()"
      ],
      "metadata": {
        "id": "5cIe3NUhZsno",
        "outputId": "1537c18d-a200-49c5-e21c-77a22bd46cf8",
        "colab": {
          "base_uri": "https://localhost:8080/"
        }
      },
      "execution_count": 25,
      "outputs": [
        {
          "output_type": "execute_result",
          "data": {
            "text/plain": [
              "Fruits and Vegetables    1232\n",
              "Snack Foods              1200\n",
              "Household                 910\n",
              "Frozen Foods              856\n",
              "Dairy                     682\n",
              "Canned                    649\n",
              "Baking Goods              648\n",
              "Health and Hygiene        520\n",
              "Soft Drinks               445\n",
              "Meat                      425\n",
              "Breads                    251\n",
              "Hard Drinks               214\n",
              "Others                    169\n",
              "Starchy Foods             148\n",
              "Breakfast                 110\n",
              "Seafood                    64\n",
              "Name: Item_Type, dtype: int64"
            ]
          },
          "metadata": {},
          "execution_count": 25
        }
      ]
    },
    {
      "cell_type": "code",
      "source": [
        "# Renaming Item Type\n",
        "\n",
        "df.loc[df['Item_Type'] == 'Fruits and Vegetables', 'Item_Type'] = 'F&V'\n",
        "df.loc[df['Item_Type'] == 'Snack Foods', 'Item_Type'] = 'SF'\n",
        "df.loc[df['Item_Type'] == 'Household', 'Item_Type'] = 'HH'\n",
        "df.loc[df['Item_Type'] == 'Frozen Foods', 'Item_Type'] = 'FF'\n",
        "df.loc[df['Item_Type'] == 'Baking Goods', 'Item_Type'] = 'BG'\n",
        "df.loc[df['Item_Type'] == 'Health and Hygiene', 'Item_Type'] = 'H&H'\n",
        "df.loc[df['Item_Type'] == 'Soft Drinks', 'Item_Type'] = 'SD'\n",
        "df.loc[df['Item_Type'] == 'Hard Drinks', 'Item_Type'] = 'HD'\n",
        "df.loc[df['Item_Type'] == 'Starchy Foods', 'Item_Type'] = 'SFoods'\n",
        "df.loc[df['Item_Type'] == 'Breakfast', 'Item_Type'] = 'Bfast'\n",
        "df.loc[df['Item_Type'] == 'Seafood', 'Item_Type'] = 'SFood'\n"
      ],
      "metadata": {
        "id": "_f2NBC8-kNc-"
      },
      "execution_count": 26,
      "outputs": []
    },
    {
      "cell_type": "code",
      "source": [
        "# Checking for Item_Fat_Content column for value counts\n",
        "\n",
        "O_ID = df['Outlet_Identifier']\n",
        "O_ID.value_counts()"
      ],
      "metadata": {
        "id": "zBBldA_LZwID",
        "outputId": "2decffba-7066-4f91-d63a-0ba13d230eed",
        "colab": {
          "base_uri": "https://localhost:8080/"
        }
      },
      "execution_count": 27,
      "outputs": [
        {
          "output_type": "execute_result",
          "data": {
            "text/plain": [
              "OUT027    935\n",
              "OUT013    932\n",
              "OUT049    930\n",
              "OUT046    930\n",
              "OUT035    930\n",
              "OUT045    929\n",
              "OUT018    928\n",
              "OUT017    926\n",
              "OUT010    555\n",
              "OUT019    528\n",
              "Name: Outlet_Identifier, dtype: int64"
            ]
          },
          "metadata": {},
          "execution_count": 27
        }
      ]
    },
    {
      "cell_type": "code",
      "source": [
        "# Checking for Outlet_Type column for value counts\n",
        "\n",
        "OType= df['Outlet_Type']\n",
        "OType.value_counts()"
      ],
      "metadata": {
        "id": "ngTs_lrdaeE9",
        "outputId": "a85cb8b0-97f6-4d73-90ea-f6547acd76e2",
        "colab": {
          "base_uri": "https://localhost:8080/"
        }
      },
      "execution_count": 28,
      "outputs": [
        {
          "output_type": "execute_result",
          "data": {
            "text/plain": [
              "Supermarket Type1    5577\n",
              "Grocery Store        1083\n",
              "Supermarket Type3     935\n",
              "Supermarket Type2     928\n",
              "Name: Outlet_Type, dtype: int64"
            ]
          },
          "metadata": {},
          "execution_count": 28
        }
      ]
    },
    {
      "cell_type": "markdown",
      "source": [
        "**The categorical columns have identifiers for items for this reason it would filter unique entries. Has checked the validity of the data per column. Updated the Item_Fat_Content the variables low fat and LF to Low Fat, and reg to Regular for uniformity**"
      ],
      "metadata": {
        "id": "TmC8hN4iZzTz"
      }
    },
    {
      "cell_type": "markdown",
      "source": [
        "## Validating content of numerical columns"
      ],
      "metadata": {
        "id": "cMCTkdMwZ17U"
      }
    },
    {
      "cell_type": "code",
      "source": [
        "#import statistics\n",
        "\n",
        "import statistics"
      ],
      "metadata": {
        "id": "3rR6pzqHZ-Qo"
      },
      "execution_count": 29,
      "outputs": []
    },
    {
      "cell_type": "code",
      "source": [
        "# Filtering Item_Visibility\n",
        "\n",
        "item_vis = df['Item_Visibility']\n",
        "\n",
        "ave_item_vis = statistics.mean(item_vis)\n",
        "\n",
        "print(\"The visibility is \" + str (round(ave_item_vis, 2)))\n",
        "print(\"Min\",item_vis.min())\n",
        "print(\"Max\",item_vis.max())"
      ],
      "metadata": {
        "id": "jx8_e8w3aDJt",
        "outputId": "717c0dd9-04de-43b6-cf00-df84c325459c",
        "colab": {
          "base_uri": "https://localhost:8080/"
        }
      },
      "execution_count": 30,
      "outputs": [
        {
          "output_type": "stream",
          "name": "stdout",
          "text": [
            "The visibility is 0.07\n",
            "Min 0.0\n",
            "Max 0.328390948\n"
          ]
        }
      ]
    },
    {
      "cell_type": "code",
      "source": [
        "# Filtering Item_MRP\n",
        "\n",
        "MRP = df['Item_MRP']\n",
        "\n",
        "ave_MRP = statistics.mean(MRP)\n",
        "\n",
        "print(\"The average MRP is \" + str (round(ave_MRP, 2)))\n",
        "print(\"Min\",MRP.min())\n",
        "print(\"Mticax\",MRP.max())"
      ],
      "metadata": {
        "id": "2HzFHIkkaGh7",
        "outputId": "37cd979e-4dfa-4cc7-fd95-5d3618cfef16",
        "colab": {
          "base_uri": "https://localhost:8080/"
        }
      },
      "execution_count": 31,
      "outputs": [
        {
          "output_type": "stream",
          "name": "stdout",
          "text": [
            "The average MRP is 140.99\n",
            "Min 31.29\n",
            "Mticax 266.8884\n"
          ]
        }
      ]
    },
    {
      "cell_type": "code",
      "source": [
        "# Filtering and sorting Outlet_Establishment_Year\n",
        "\n",
        "established_year = df['Outlet_Establishment_Year']\n",
        "established_year.value_counts()\n",
        "sort_per_year = established_year.value_counts()\n",
        "sort_per_year.sort_values()"
      ],
      "metadata": {
        "id": "RA5TDANOaJvE",
        "outputId": "dcb250a4-f874-4d63-d928-e5f88af87937",
        "colab": {
          "base_uri": "https://localhost:8080/"
        }
      },
      "execution_count": 32,
      "outputs": [
        {
          "output_type": "execute_result",
          "data": {
            "text/plain": [
              "1998     555\n",
              "2007     926\n",
              "2009     928\n",
              "2002     929\n",
              "1999     930\n",
              "1997     930\n",
              "2004     930\n",
              "1987     932\n",
              "1985    1463\n",
              "Name: Outlet_Establishment_Year, dtype: int64"
            ]
          },
          "metadata": {},
          "execution_count": 32
        }
      ]
    },
    {
      "cell_type": "code",
      "source": [
        "# Filtering and checking min, max and mean for sales column\n",
        "\n",
        "sales = df['Item_Outlet_Sales']\n",
        "\n",
        "average = statistics.mean(sales)\n",
        "\n",
        "print(\"The average sales is $\" + str(round(average, 2)))\n",
        "print(\"Min\",sales.min())\n",
        "print(\"Max\",sales.max())"
      ],
      "metadata": {
        "id": "xW4Fq2NraMDo",
        "outputId": "67d44fa7-6755-48c3-aeb0-12446a6bde31",
        "colab": {
          "base_uri": "https://localhost:8080/"
        }
      },
      "execution_count": 33,
      "outputs": [
        {
          "output_type": "stream",
          "name": "stdout",
          "text": [
            "The average sales is $2181.29\n",
            "Min 33.29\n",
            "Max 13086.9648\n"
          ]
        }
      ]
    },
    {
      "cell_type": "markdown",
      "source": [
        "**Showed the min and max of each columns except for Outlet_Establishment_Year, instead I sorted the values.**"
      ],
      "metadata": {
        "id": "yKIzfNIoaRyG"
      }
    },
    {
      "cell_type": "markdown",
      "source": [
        "# Project 1 - Part 3 (Core)"
      ],
      "metadata": {
        "id": "meOYtpWXKObP"
      }
    },
    {
      "cell_type": "markdown",
      "source": [
        "## Histogram to view the distributions of various features in dataset\n"
      ],
      "metadata": {
        "id": "_WSHAeCOVhv2"
      }
    },
    {
      "cell_type": "code",
      "source": [
        "# Importing libraries\n",
        "\n",
        "import matplotlib.pyplot as plt\n",
        "import seaborn as sns"
      ],
      "metadata": {
        "id": "FH1GYcV6KSzZ"
      },
      "execution_count": 34,
      "outputs": []
    },
    {
      "cell_type": "code",
      "source": [
        "# Creating histogram for Item Identifier\n",
        "\n",
        "plt.style.use('seaborn')\n",
        "plt.figure(figsize=(8,5))\n",
        "plt.hist(I_Type, bins=16, alpha=0.7, edgecolor='black', label='Item Type')\n",
        "\n",
        "plt.xticks(rotation= 90)\n",
        "plt.yticks(rotation= 20);"
      ],
      "metadata": {
        "id": "Rba2donAhwxc",
        "outputId": "318081bd-9e6b-40c6-c8ee-14735943be3e",
        "colab": {
          "base_uri": "https://localhost:8080/",
          "height": 345
        }
      },
      "execution_count": 35,
      "outputs": [
        {
          "output_type": "display_data",
          "data": {
            "text/plain": [
              "<Figure size 576x360 with 1 Axes>"
            ],
            "image/png": "[encoded data removed]"
          },
          "metadata": {}
        }
      ]
    },
    {
      "cell_type": "code",
      "source": [
        "# Creating histogram for Outlet Type\n",
        "\n",
        "plt.style.use('seaborn')\n",
        "plt.figure(figsize=(8,5))\n",
        "plt.hist(OType, bins=4, alpha=0.7, edgecolor='black', label='Outlet Type')\n",
        "\n",
        "plt.xticks(rotation= 90)\n",
        "plt.yticks(rotation= 20);\n"
      ],
      "metadata": {
        "id": "OpBjoSORa6rx",
        "outputId": "0696c267-bb36-4f55-ff27-35c723c54914",
        "colab": {
          "base_uri": "https://localhost:8080/",
          "height": 397
        }
      },
      "execution_count": 36,
      "outputs": [
        {
          "output_type": "display_data",
          "data": {
            "text/plain": [
              "<Figure size 576x360 with 1 Axes>"
            ],
            "image/png": "[encoded data removed]"
          },
          "metadata": {}
        }
      ]
    },
    {
      "cell_type": "code",
      "source": [
        "# Creating histogram for Sales\n",
        "\n",
        "plt.style.use('seaborn')\n",
        "plt.figure(figsize=(7,5))\n",
        "plt.hist(sales, bins=8, alpha=0.7, edgecolor='black', label='Sales')\n",
        "\n",
        "plt.xticks(rotation= 90)\n",
        "plt.yticks(rotation= 20);"
      ],
      "metadata": {
        "id": "2Aj7eVeTcey-",
        "outputId": "47c9aef3-e2f4-474b-8c93-457c7ebdd547",
        "colab": {
          "base_uri": "https://localhost:8080/",
          "height": 338
        }
      },
      "execution_count": 37,
      "outputs": [
        {
          "output_type": "display_data",
          "data": {
            "text/plain": [
              "<Figure size 504x360 with 1 Axes>"
            ],
            "image/png": "[encoded data removed]"
          },
          "metadata": {}
        }
      ]
    },
    {
      "cell_type": "markdown",
      "source": [
        "## Boxplot to view statistical summaries of various features in dataset"
      ],
      "metadata": {
        "id": "aBXlgRtj2nBd"
      }
    },
    {
      "cell_type": "code",
      "source": [
        "# Creating boxplot for Item Outlet Sales and the Type of Outlet\n",
        "\n",
        "sns.boxplot(x='Item_Outlet_Sales', y='Outlet_Type', data=df);"
      ],
      "metadata": {
        "id": "5dVh8Z7uu4hk",
        "outputId": "e20d523b-2e5e-4113-bb2f-ae6518eff698",
        "colab": {
          "base_uri": "https://localhost:8080/",
          "height": 361
        }
      },
      "execution_count": 38,
      "outputs": [
        {
          "output_type": "display_data",
          "data": {
            "text/plain": [
              "<Figure size 576x396 with 1 Axes>"
            ],
            "image/png": "[encoded data removed]"
          },
          "metadata": {}
        }
      ]
    },
    {
      "cell_type": "code",
      "source": [
        "# Boxplot for Item Outlet Sales and the year the outlet was established\n",
        "\n",
        "sns.boxplot(x='Outlet_Establishment_Year', y='Item_Outlet_Sales', data=df);"
      ],
      "metadata": {
        "id": "5tF1Q4E3zGN2",
        "outputId": "0d560585-ee72-4e1d-f68b-2b0f1793eaba",
        "colab": {
          "base_uri": "https://localhost:8080/",
          "height": 361
        }
      },
      "execution_count": 39,
      "outputs": [
        {
          "output_type": "display_data",
          "data": {
            "text/plain": [
              "<Figure size 576x396 with 1 Axes>"
            ],
            "image/png": "[encoded data removed]"
          },
          "metadata": {}
        }
      ]
    },
    {
      "cell_type": "markdown",
      "source": [
        "## Heatmap of the correlation between features"
      ],
      "metadata": {
        "id": "LFM93Et84waw"
      }
    },
    {
      "cell_type": "code",
      "source": [
        "# Creating correlation\n",
        "\n",
        "corr = df.corr()\n",
        "\n",
        "sns.heatmap(corr, cmap = 'Oranges');"
      ],
      "metadata": {
        "id": "7gYvk3860qqR",
        "outputId": "3519ce47-4b68-4887-d7f9-021582b53533",
        "colab": {
          "base_uri": "https://localhost:8080/",
          "height": 462
        }
      },
      "execution_count": 40,
      "outputs": [
        {
          "output_type": "display_data",
          "data": {
            "text/plain": [
              "<Figure size 576x396 with 2 Axes>"
            ],
            "image/png": "[encoded data removed]"
          },
          "metadata": {}
        }
      ]
    },
    {
      "cell_type": "code",
      "source": [
        "# Creating correlation annot= True\n",
        "\n",
        "sns.heatmap(corr, cmap = 'Blues', annot = True);"
      ],
      "metadata": {
        "id": "1g6QB8Md1vIA",
        "outputId": "6c5500cd-1e95-4cb1-977f-527b5199aafc",
        "colab": {
          "base_uri": "https://localhost:8080/",
          "height": 462
        }
      },
      "execution_count": 41,
      "outputs": [
        {
          "output_type": "display_data",
          "data": {
            "text/plain": [
              "<Figure size 576x396 with 2 Axes>"
            ],
            "image/png": "[encoded data removed]"
          },
          "metadata": {}
        }
      ]
    }
  ]
}